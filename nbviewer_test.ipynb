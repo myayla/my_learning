x = range(1,10)
print(x)
