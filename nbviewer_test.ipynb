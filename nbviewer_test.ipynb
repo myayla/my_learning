# We'll learn how to automate this sort of list in the next lecture
l = [1,2,3,4,5,6,7,8,9,10]

for num in l:
    print num
